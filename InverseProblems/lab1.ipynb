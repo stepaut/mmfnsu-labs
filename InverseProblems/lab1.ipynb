{
 "cells": [
  {
   "cell_type": "code",
   "execution_count": null,
   "metadata": {},
   "outputs": [],
   "source": [
    "from sympy import *\n",
    "s, t = symbols('s t')\n",
    "f = (abs(s - 0.5) + 1)/(s-t+2)\n",
    "r = integrate(f, (s, 0, 3))\n",
    "simplify(r)"
   ]
  },
  {
   "cell_type": "code",
   "execution_count": null,
   "metadata": {},
   "outputs": [],
   "source": [
    "import numpy as np\n",
    "from math import *\n",
    "import matplotlib.pyplot as plt"
   ]
  },
  {
   "cell_type": "code",
   "execution_count": null,
   "metadata": {},
   "outputs": [],
   "source": [
    "def K(t, s):\n",
    "    return 1 / (s - t + 2)\n",
    "\n",
    "def qe(s):\n",
    "    return abs(s - 0.5) + 1\n",
    "\n",
    "def f(t):\n",
    "    return 3.5*(0.285714285714286*t-1.0)*log(2.0-t)-3.5*(0.285714285714286*t-1.0)*log(2.5-t)-1.5*(0.666666666666667*t-1.0)*log(2.5-t)+1.5*(0.666666666666667*t-1.0)*log(5.0-t)+2.0\n",
    "\n",
    "ls = 3\n",
    "lt = 1\n",
    "\n",
    "Ns = [int(pow(2,i)) for i in range(1,11)]\n",
    "\n",
    "def _A(N):\n",
    "    hx = ls / N\n",
    "    A = np.zeros((N+1, N+1))\n",
    "    for j in range(N+1):\n",
    "        tj = 0 + j*(lt/N)\n",
    "        for i in range(1,N):\n",
    "            si = 0 + i*(ls/N)\n",
    "            A[j,i] = hx * K(tj, si)\n",
    "        A[j,0] = 0.5 * hx * K(tj, 0)\n",
    "        A[j,N] = 0.5 * hx * K(tj, ls)\n",
    "    return A\n",
    "\n",
    "def _b(N):\n",
    "    b = np.zeros((N+1,1))\n",
    "    for j in range(N+1):\n",
    "        tj = 0 + j*(lt/N)\n",
    "        b[j,0] =  f(tj)\n",
    "    return b\n",
    "\n",
    "def solve(A, b):\n",
    "    U, S, V = np.linalg.svd(A, full_matrices=True)\n",
    "    \n",
    "    UTb = np.transpose(U) @ b \n",
    "    S1UTb = UTb\n",
    "    for i in range(len(S1UTb)):\n",
    "        if(S[i] != 0):\n",
    "            S1UTb[i] = S1UTb[i] / S[i]\n",
    "        else:\n",
    "            S1UTb[i] = 0\n",
    "    return np.transpose(V) @ S1UTb"
   ]
  },
  {
   "cell_type": "markdown",
   "metadata": {},
   "source": [
    "# 1"
   ]
  },
  {
   "cell_type": "code",
   "execution_count": null,
   "metadata": {},
   "outputs": [],
   "source": [
    "x = np.linspace(0,ls, 1000)\n",
    "y = [qe(p) for p in x]\n",
    "\n",
    "bAdd = [(qe(0) * (1000 - i) + i * qe(ls)) / 1000 for i in range(1000) ]\n",
    "    \n",
    "plt.plot(x, y, label = \"Точное решение\")\n",
    "plt.plot(x, bAdd, label = \"Априорная информация\")\n",
    "plt.legend()\n",
    "plt.xlabel('s')\n",
    "plt.ylabel('q(s)')\n",
    "plt.grid(True)\n",
    "plt.show()"
   ]
  },
  {
   "cell_type": "code",
   "execution_count": null,
   "metadata": {},
   "outputs": [],
   "source": [
    "x = np.linspace(0,lt, 1000)\n",
    "y = [f(p) for p in x]\n",
    "\n",
    "plt.plot(x, y, label = \"f(t)\")\n",
    "plt.legend()\n",
    "plt.xlabel('t')\n",
    "plt.ylabel('f(t)')\n",
    "plt.grid(True)\n",
    "plt.show()"
   ]
  },
  {
   "cell_type": "code",
   "execution_count": null,
   "metadata": {},
   "outputs": [],
   "source": [
    "x = np.linspace(0,ls, 1000)\n",
    "y = [qe(p) for p in x]\n",
    "\n",
    "for n in Ns:\n",
    "    A = _A(n)\n",
    "    b = _b(n)\n",
    "    qsol = solve(A,b)\n",
    "    \n",
    "    plt.plot([0 + i * ls/n for i in range(0, n+1)], qsol, label = \"Приближенное решение\")\n",
    "    plt.plot(x, y, label = \"Точное решение\")\n",
    "    \n",
    "    plt.legend()\n",
    "    plt.title(\"График приближенного решения при N = \" + str(n))\n",
    "    plt.xlabel('s')\n",
    "    plt.ylabel('q(s)')\n",
    "    plt.grid(True)\n",
    "    plt.show()"
   ]
  },
  {
   "cell_type": "code",
   "execution_count": null,
   "metadata": {},
   "outputs": [],
   "source": [
    "Er = []\n",
    "Er1 = []\n",
    "for n in Ns:\n",
    "    A = _A(n)\n",
    "    b = _b(n)\n",
    "    \n",
    "    qexs = np.zeros((n+1,1))\n",
    "    for i in range(n+1):\n",
    "        qexs[i,0] =  qe(0 + i*(ls/n))\n",
    "\n",
    "    qsol = solve(A,b)\n",
    "    \n",
    "    Er.append((np.transpose(A@qexs - b) @ (A@qexs - b))[0,0] / n)\n",
    "    Er1.append((np.transpose(A@qsol - b) @ (A@qsol - b))[0,0] / n)\n",
    "\n",
    "plt.plot(Ns, np.log(Er)/np.log(10), label = \"MSE точного решения\")\n",
    "plt.plot(Ns, np.log(Er1)/np.log(10), label = \"MSE полученного решения\")\n",
    "plt.legend()\n",
    "plt.xlabel('N')\n",
    "plt.ylabel('log MSE')\n",
    "plt.grid(True)\n",
    "plt.show()"
   ]
  },
  {
   "cell_type": "markdown",
   "metadata": {},
   "source": [
    "# 2"
   ]
  },
  {
   "cell_type": "code",
   "execution_count": null,
   "metadata": {},
   "outputs": [],
   "source": [
    "S1 = []\n",
    "S2 = []\n",
    "for n in Ns:\n",
    "    A = _A(n)\n",
    "    u, s, vh = np.linalg.svd(A, full_matrices=True)\n",
    "    S1.append(s[0])\n",
    "    S2.append(s[n])\n",
    "    \n",
    "plt.plot(Ns, np.log(S1)/np.log(10), label = \"Smax\")\n",
    "plt.plot(Ns, np.log(S2)/np.log(10), label = \"Smin\")\n",
    "plt.legend()\n",
    "plt.title(\"Масксимальное и минимальное синглуярные числа\")\n",
    "plt.xlabel('N')\n",
    "plt.ylabel('log S')\n",
    "plt.grid(True)\n",
    "plt.show()\n",
    "\n",
    "plt.plot(Ns, [np.log(S1[i]/S2[i])/np.log(10) for i in range(len(S2))], label = \"Число обусловленности\")\n",
    "plt.legend()\n",
    "plt.title(\"Зависимость числа обсуловленности от размера сетки\")\n",
    "plt.xlabel('N')\n",
    "plt.grid(True)\n",
    "plt.show()"
   ]
  },
  {
   "cell_type": "code",
   "execution_count": null,
   "metadata": {},
   "outputs": [],
   "source": [
    "n = 1024\n",
    "A = _A(n)\n",
    "u, s, vh = np.linalg.svd(A, full_matrices=True)\n",
    "plt.plot(list(range(A.shape[0])), np.log(s)/np.log(10), label = \"Si\", marker = \".\")\n",
    "plt.legend()\n",
    "plt.title(\"Сингулярные числа матрица при N = \" + str(n))\n",
    "plt.xlabel('Номер сингулярного числа')\n",
    "plt.grid(True)\n",
    "plt.show()"
   ]
  },
  {
   "cell_type": "markdown",
   "metadata": {},
   "source": [
    "# 3"
   ]
  },
  {
   "cell_type": "code",
   "execution_count": null,
   "metadata": {},
   "outputs": [],
   "source": [
    "n = 20\n",
    "\n",
    "noiseLevels = [0.0, 0.01,0.03, 0.05, 0.1]\n",
    "A = _A(n)\n",
    "b = _b(n)\n",
    "x = np.linspace(0, ls, n+1)\n",
    "qexs = np.zeros((n+1,1))\n",
    "for i in range(n+1):\n",
    "    qexs[i,0] =  qe(0 + i*(ls/n))\n",
    "\n",
    "noise = np.transpose(np.random.rand(len(b))*2-1)    \n",
    "\n",
    "for noiseLevel in noiseLevels:\n",
    "    norm = np.linalg.norm(b)\n",
    "    bD = b + (noise * norm * noiseLevel).reshape(b.shape)\n",
    "    \n",
    "    qsol = solve(A,bD)\n",
    "\n",
    "    mse = ((np.transpose((qsol - qexs)) @ (qsol - qexs)) / n)[0,0]\n",
    "    #print(mse)\n",
    "    plt.plot(x, qsol, label = \"Qsol\")\n",
    "    plt.plot(x, qexs, label = \"Qex\")\n",
    "    plt.legend()\n",
    "    plt.title(\"Уровень шума = \" + str(noiseLevel) + \"; MSE = \" + str(mse))\n",
    "    plt.xlabel('N')\n",
    "    plt.grid(True)\n",
    "    plt.show()"
   ]
  },
  {
   "cell_type": "markdown",
   "metadata": {},
   "source": [
    "# 4"
   ]
  },
  {
   "cell_type": "code",
   "execution_count": null,
   "metadata": {},
   "outputs": [],
   "source": []
  }
 ],
 "metadata": {
  "kernelspec": {
   "display_name": "Python 3",
   "language": "python",
   "name": "python3"
  },
  "language_info": {
   "codemirror_mode": {
    "name": "ipython",
    "version": 3
   },
   "file_extension": ".py",
   "mimetype": "text/x-python",
   "name": "python",
   "nbconvert_exporter": "python",
   "pygments_lexer": "ipython3",
   "version": "3.11.2"
  }
 },
 "nbformat": 4,
 "nbformat_minor": 2
}
