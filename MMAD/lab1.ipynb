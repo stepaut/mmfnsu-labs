{
 "cells": [
  {
   "attachments": {},
   "cell_type": "markdown",
   "id": "0e9f5f26",
   "metadata": {},
   "source": [
    "# Лабораторная работа 1 : Линейные методы классификации"
   ]
  },
  {
   "cell_type": "code",
   "execution_count": 1,
   "id": "527bb6b4",
   "metadata": {},
   "outputs": [
    {
     "ename": "ModuleNotFoundError",
     "evalue": "No module named 'seaborn'",
     "output_type": "error",
     "traceback": [
      "\u001b[1;31m---------------------------------------------------------------------------\u001b[0m",
      "\u001b[1;31mModuleNotFoundError\u001b[0m                       Traceback (most recent call last)",
      "Cell \u001b[1;32mIn[1], line 11\u001b[0m\n\u001b[0;32m      9\u001b[0m \u001b[39mimport\u001b[39;00m \u001b[39mmatplotlib\u001b[39;00m\u001b[39m.\u001b[39;00m\u001b[39mpyplot\u001b[39;00m \u001b[39mas\u001b[39;00m \u001b[39mplt\u001b[39;00m\n\u001b[0;32m     10\u001b[0m \u001b[39mfrom\u001b[39;00m \u001b[39mmatplotlib\u001b[39;00m\u001b[39m.\u001b[39;00m\u001b[39mcolors\u001b[39;00m \u001b[39mimport\u001b[39;00m ListedColormap\n\u001b[1;32m---> 11\u001b[0m \u001b[39mimport\u001b[39;00m \u001b[39mseaborn\u001b[39;00m \u001b[39mas\u001b[39;00m \u001b[39msns\u001b[39;00m\n\u001b[0;32m     12\u001b[0m \u001b[39mimport\u001b[39;00m \u001b[39mitertools\u001b[39;00m\n\u001b[0;32m     13\u001b[0m \u001b[39mfrom\u001b[39;00m \u001b[39mscipy\u001b[39;00m \u001b[39mimport\u001b[39;00m linalg \u001b[39mas\u001b[39;00m npl\n",
      "\u001b[1;31mModuleNotFoundError\u001b[0m: No module named 'seaborn'"
     ]
    }
   ],
   "source": [
    "from sklearn import datasets\n",
    "from sklearn.discriminant_analysis import LinearDiscriminantAnalysis as lda\n",
    "from sklearn.discriminant_analysis import QuadraticDiscriminantAnalysis as qda\n",
    "from sklearn.linear_model import LogisticRegression as lr\n",
    "from sklearn import svm\n",
    "from sklearn.model_selection import train_test_split\n",
    "import pandas as pd\n",
    "import numpy as np\n",
    "import matplotlib.pyplot as plt\n",
    "from matplotlib.colors import ListedColormap\n",
    "import seaborn as sns\n",
    "import itertools\n",
    "from scipy import linalg as npl\n",
    "from sklearn.metrics import confusion_matrix as cm\n",
    "from sklearn.metrics import ConfusionMatrixDisplay as cmd"
   ]
  },
  {
   "cell_type": "code",
   "execution_count": null,
   "id": "dc0a34fc",
   "metadata": {},
   "outputs": [],
   "source": [
    "### plot methods\n",
    "\n",
    "n = 500\n",
    "\n",
    "def task2(x, y, model, name):\n",
    "    model.fit(x,y)\n",
    "    x_min, x_max = x[:, 0].min() - 0.5 , x[:, 0].max() + 0.5\n",
    "    y_min, y_max = x[:, 1].min() - 0.5 , x[:, 1].max() + 0.5\n",
    "    xx, yy = np.meshgrid(np.linspace(x_min, x_max,n), np.linspace(y_min, y_max,n))\n",
    "    Z = model.predict(np.c_[xx.ravel(), yy.ravel()])\n",
    "    Z = Z.reshape(xx.shape)\n",
    "    plt.contour(xx, yy, Z)\n",
    "    plt.scatter(x[:, 0], x[:, 1], c = y,s = 10)\n",
    "    plt.xlabel('petal length (cm)')\n",
    "    plt.ylabel('petal width (cm)')\n",
    "    plt.title(f'{name}')\n",
    "    plt.show()\n",
    "    res = cm(y,model.predict(x))\n",
    "    disp = cmd(confusion_matrix=res)\n",
    "    disp.plot()\n",
    "    \n",
    "def task3(pair, model, x, y, labelPair):\n",
    "    model.fit(x,y)\n",
    "    y_pred = model.predict(x)\n",
    "    x_min, x_max = x[:, pair[0]].min() - 1, x[:, pair[0]].max() + 1\n",
    "    y_min, y_max = x[:, pair[1]].min() - 1, x[:, pair[1]].max() + 1\n",
    "    xx, yy = np.meshgrid(np.linspace(x_min, x_max, n),np.linspace(y_min, y_max, n))\n",
    "    tp = (y == model.predict(x))\n",
    "    tp0, tp1 = tp[y == 1], tp[y == 2]\n",
    "    XX = X[:,[pair[0],pair[1]]]\n",
    "    X0, X1 = XX[y == 1], XX[y == 2]\n",
    "    X0_tp, X0_fp = X0[tp0], X0[~tp0]\n",
    "    X1_tp, X1_fp = X1[tp1], X1[~tp1]\n",
    "    plt.plot(X0_tp[:, 0], X0_tp[:, 1], '.', color='red')\n",
    "    plt.plot(X0_fp[:, 0], X0_fp[:, 1], 'X', color='darkred')\n",
    "    plt.plot(X1_tp[:, 0], X1_tp[:, 1], '.', color='blue')\n",
    "    plt.plot(X1_fp[:, 0], X1_fp[:, 1], 'X', color='darkblue')\n",
    "    plt.xlabel(f'{labelPair[0]}')\n",
    "    plt.ylabel(f'{labelPair[1]}')\n",
    "    plt.xlim(xx.min(), xx.max())\n",
    "    plt.title('LDA')\n",
    "    plt.show()\n",
    "    \n",
    "def task4(x,y):\n",
    "    x_min, x_max = x[:, 0].min() - 0.5 , x[:, 0].max() + 0.5\n",
    "    y_min, y_max = x[:, 1].min() - 0.5 , x[:, 1].max() + 0.5\n",
    "    xx, yy = np.meshgrid(np.linspace(x_min, x_max,n), np.linspace(y_min, y_max,n))\n",
    "    Z = []\n",
    "    for i in np.c_[xx.ravel(), yy.ravel()]:\n",
    "        Z.append(qda_test(i))\n",
    "    Z = np.array(Z).reshape(xx.shape)\n",
    "    plt.contour(xx, yy, Z)\n",
    "    plt.scatter(x[:, 0], x[:, 1], c = y,s = 10)\n",
    "    plt.xlabel('petal length (cm)')\n",
    "    plt.ylabel('petal width (cm)')\n",
    "    plt.title('QDA-test')\n",
    "    y_pred = []\n",
    "    for xxx in x:\n",
    "        y_pred.append(qda_test(xxx))\n",
    "    res = cm(y,np.array(y_pred))\n",
    "    disp = cmd(confusion_matrix=res)\n",
    "    disp.plot()"
   ]
  },
  {
   "attachments": {},
   "cell_type": "markdown",
   "id": "ba21a020",
   "metadata": {},
   "source": [
    "## Задание 1"
   ]
  },
  {
   "cell_type": "code",
   "execution_count": null,
   "id": "bfed2717",
   "metadata": {},
   "outputs": [
    {
     "ename": "",
     "evalue": "",
     "output_type": "error",
     "traceback": [
      "\u001b[1;31mRunning cells with 'c:\\Users\\stepa\\AppData\\Local\\Programs\\Python\\Python311\\python.exe' requires the ipykernel package.\n",
      "\u001b[1;31mRun the following command to install 'ipykernel' into the Python environment. \n",
      "\u001b[1;31mCommand: 'c:/Users/stepa/AppData/Local/Programs/Python/Python311/python.exe -m pip install ipykernel -U --user --force-reinstall'"
     ]
    }
   ],
   "source": [
    "iris = datasets.load_iris()\n",
    "\n",
    "df = pd.DataFrame(data= np.c_[iris['data'], iris['target']], columns= iris['feature_names'] + ['target'])\n",
    "df.loc[(df.target==0),'target_'] = 'iris-setosa'\n",
    "df.loc[(df.target==1),'target_'] = 'iris-versicolor'\n",
    "df.loc[(df.target==2),'target_'] = 'iris-virginica'\n",
    "dfwn = df.drop(columns=['target'])\n",
    "df"
   ]
  },
  {
   "attachments": {},
   "cell_type": "markdown",
   "id": "73b6e28b",
   "metadata": {},
   "source": [
    "все:"
   ]
  },
  {
   "cell_type": "code",
   "execution_count": null,
   "id": "695c0603",
   "metadata": {},
   "outputs": [],
   "source": [
    "corr = dfwn.corr()\n",
    "corr"
   ]
  },
  {
   "attachments": {},
   "cell_type": "markdown",
   "id": "8ed7bf1c",
   "metadata": {},
   "source": [
    "setosa:"
   ]
  },
  {
   "cell_type": "code",
   "execution_count": null,
   "id": "c041507a",
   "metadata": {},
   "outputs": [],
   "source": [
    "corr = dfwn[dfwn.target_=='iris-setosa'].corr()\n",
    "corr"
   ]
  },
  {
   "attachments": {},
   "cell_type": "markdown",
   "id": "68f34def",
   "metadata": {},
   "source": [
    "versicolor:"
   ]
  },
  {
   "cell_type": "code",
   "execution_count": null,
   "id": "0d155725",
   "metadata": {},
   "outputs": [],
   "source": [
    "corr = dfwn[dfwn.target_=='iris-versicolor'].corr()\n",
    "corr"
   ]
  },
  {
   "attachments": {},
   "cell_type": "markdown",
   "id": "ec3f9f49",
   "metadata": {},
   "source": [
    "virginica:"
   ]
  },
  {
   "cell_type": "code",
   "execution_count": null,
   "id": "b7b9bcf3",
   "metadata": {},
   "outputs": [],
   "source": [
    "corr = dfwn[dfwn.target_=='iris-virginica'].corr()\n",
    "corr"
   ]
  },
  {
   "cell_type": "code",
   "execution_count": null,
   "id": "9607bc5d",
   "metadata": {},
   "outputs": [],
   "source": [
    "sns.pairplot(dfwn, hue = 'target_')"
   ]
  },
  {
   "attachments": {},
   "cell_type": "markdown",
   "id": "d00a45d0",
   "metadata": {},
   "source": [
    "наимение различимые классы: virginica и versicolor\n",
    "\n",
    "дальше работать будем с ними"
   ]
  },
  {
   "attachments": {},
   "cell_type": "markdown",
   "id": "d87bf4cd",
   "metadata": {},
   "source": [
    "## Задание 2"
   ]
  },
  {
   "attachments": {},
   "cell_type": "markdown",
   "id": "00a94498",
   "metadata": {},
   "source": [
    "переменные для построения : petal length и petal width"
   ]
  },
  {
   "cell_type": "code",
   "execution_count": null,
   "id": "be8733b1",
   "metadata": {},
   "outputs": [],
   "source": [
    "X = df[['petal length (cm)', 'petal width (cm)']].values\n",
    "y = df['target']\n",
    "print(type(X))"
   ]
  },
  {
   "cell_type": "code",
   "execution_count": null,
   "id": "1bb8dbc4",
   "metadata": {},
   "outputs": [],
   "source": [
    "LDA_model = lda()\n",
    "task2(X,y,LDA_model,\"LDA\")"
   ]
  },
  {
   "cell_type": "code",
   "execution_count": null,
   "id": "eab301c9",
   "metadata": {},
   "outputs": [],
   "source": [
    "QDA_model = qda()\n",
    "task2(X,y,QDA_model,\"QDA\")"
   ]
  },
  {
   "cell_type": "code",
   "execution_count": null,
   "id": "77787111",
   "metadata": {},
   "outputs": [],
   "source": [
    "LR_model = lr()\n",
    "task2(X,y,LR_model,\"LR\")"
   ]
  },
  {
   "cell_type": "code",
   "execution_count": null,
   "id": "b8e9da58",
   "metadata": {},
   "outputs": [],
   "source": [
    "SVML_model = svm.SVC(kernel='linear')\n",
    "task2(X,y,SVML_model,\"SVML\")"
   ]
  },
  {
   "cell_type": "code",
   "execution_count": null,
   "id": "40114662",
   "metadata": {},
   "outputs": [],
   "source": [
    "SVMQ_model = svm.SVC(kernel='poly', degree=2)\n",
    "task2(X,y,SVMQ_model,\"SVMQ\")"
   ]
  },
  {
   "attachments": {},
   "cell_type": "markdown",
   "id": "007398d5",
   "metadata": {},
   "source": [
    "## Задание 3"
   ]
  },
  {
   "cell_type": "code",
   "execution_count": null,
   "id": "9f1886dd",
   "metadata": {},
   "outputs": [],
   "source": [
    "X = dfwn[dfwn['target_'] != 'iris-setosa'].drop(columns='target_').values\n",
    "y = df[df['target_'] != 'iris-setosa']['target'].values"
   ]
  },
  {
   "cell_type": "code",
   "execution_count": null,
   "id": "ac4b64b0",
   "metadata": {},
   "outputs": [],
   "source": [
    "for pair in itertools.combinations(list(range(0,4)), 2):\n",
    "    task3(pair,LDA_model, X, y, [df.columns[pair[0]], df.columns[pair[1]]])"
   ]
  },
  {
   "attachments": {},
   "cell_type": "markdown",
   "id": "bd46e544",
   "metadata": {},
   "source": [
    "Как видно, построение LDA модели с помощью всех переменных дает лучший результат, \n",
    "по сравнению с построением лишь по petal length и petal width. Ошибок 3 вместо 6."
   ]
  },
  {
   "attachments": {},
   "cell_type": "markdown",
   "id": "21dcde42",
   "metadata": {},
   "source": [
    "## Задание 4"
   ]
  },
  {
   "attachments": {},
   "cell_type": "markdown",
   "id": "f14b47c5",
   "metadata": {},
   "source": [
    "переменные для построения : petal length и petal width"
   ]
  },
  {
   "cell_type": "code",
   "execution_count": null,
   "id": "a84c24ba",
   "metadata": {},
   "outputs": [],
   "source": [
    "X = df[df['target_'] != 'iris-setosa'][['petal length (cm)', 'petal width (cm)']]\n",
    "y = df[df['target_'] != 'iris-setosa']['target']\n",
    "y = y - 1"
   ]
  },
  {
   "cell_type": "code",
   "execution_count": null,
   "id": "85258a67",
   "metadata": {},
   "outputs": [],
   "source": [
    "sigma1 = X[y == 0].cov().values\n",
    "mean1 = X[y == 0].mean().values\n",
    "sigma2 = X[y == 1].cov().values\n",
    "mean2 = X[y == 1].mean().values\n",
    "\n",
    "def qda_test(x):\n",
    "    Q2 = np.dot((x-mean2), np.dot(npl.inv(sigma2), (x-mean2)))\n",
    "    Q1 = np.dot((x-mean1), np.dot(npl.inv(sigma1), (x-mean1)))\n",
    "    r = (Q2 - Q1) / 2 + np.log(np.sqrt(np.abs(npl.det(sigma2))) / np.sqrt(np.abs(npl.det(sigma1))))\n",
    "    if r > 0:\n",
    "        return  0\n",
    "    if r <= 0:\n",
    "        return 1\n",
    "    \n",
    "task4(X.values,y.values)"
   ]
  },
  {
   "cell_type": "code",
   "execution_count": null,
   "id": "48021a56",
   "metadata": {},
   "outputs": [],
   "source": [
    "QDA_model = qda()\n",
    "X=X.values\n",
    "task2(X,y.values,QDA_model,\"QDA-real\")"
   ]
  },
  {
   "attachments": {},
   "cell_type": "markdown",
   "id": "b28b6bd4",
   "metadata": {},
   "source": [
    "Как видно, результаты аналогичные."
   ]
  },
  {
   "cell_type": "code",
   "execution_count": null,
   "id": "5ba6c1da",
   "metadata": {},
   "outputs": [],
   "source": []
  }
 ],
 "metadata": {
  "kernelspec": {
   "display_name": "Python 3",
   "language": "python",
   "name": "python3"
  },
  "language_info": {
   "codemirror_mode": {
    "name": "ipython",
    "version": 3
   },
   "file_extension": ".py",
   "mimetype": "text/x-python",
   "name": "python",
   "nbconvert_exporter": "python",
   "pygments_lexer": "ipython3",
   "version": "3.11.2"
  }
 },
 "nbformat": 4,
 "nbformat_minor": 5
}
