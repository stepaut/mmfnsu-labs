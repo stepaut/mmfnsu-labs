{
 "cells": [
  {
   "attachments": {},
   "cell_type": "markdown",
   "id": "556b0098",
   "metadata": {},
   "source": [
    "# Лабораторная работа 2 : «Наивный» байесовский классификатор"
   ]
  },
  {
   "cell_type": "code",
   "execution_count": null,
   "id": "fe81a4ca",
   "metadata": {},
   "outputs": [],
   "source": [
    "from sklearn import datasets\n",
    "from sklearn.discriminant_analysis import LinearDiscriminantAnalysis as lda\n",
    "from sklearn.discriminant_analysis import QuadraticDiscriminantAnalysis as qda\n",
    "from sklearn.linear_model import LogisticRegression as lr\n",
    "from sklearn import svm\n",
    "from sklearn.model_selection import train_test_split\n",
    "import pandas as pd\n",
    "import numpy as np\n",
    "import matplotlib.pyplot as plt\n",
    "from matplotlib.colors import ListedColormap\n",
    "import seaborn as sns\n",
    "import itertools\n",
    "import sklearn\n",
    "from scipy import linalg as npl\n",
    "from sklearn.metrics import confusion_matrix as cm\n",
    "from sklearn.metrics import ConfusionMatrixDisplay as cmd\n",
    "from sklearn.metrics import accuracy_score\n",
    "from sklearn.preprocessing import LabelEncoder\n",
    "from sklearn.naive_bayes import BernoulliNB\n",
    "from sklearn.preprocessing import OrdinalEncoder"
   ]
  },
  {
   "attachments": {},
   "cell_type": "markdown",
   "id": "f4f40b18",
   "metadata": {},
   "source": [
    "## Задание 1"
   ]
  },
  {
   "cell_type": "code",
   "execution_count": null,
   "id": "f548115d",
   "metadata": {},
   "outputs": [],
   "source": [
    "# V = 83 => вариант 12\n",
    "\n",
    "df = pd.read_csv('mushrooms.csv')\n",
    "df = df[['stalk-surface-above-ring', 'stalk-surface-below-ring','stalk-color-above-ring', 'stalk-color-below-ring','veil-type','class']]\n",
    "X = df.drop(columns = ['class'])\n",
    "y = df['class']\n",
    "df"
   ]
  },
  {
   "cell_type": "code",
   "execution_count": null,
   "id": "56c4676e",
   "metadata": {},
   "outputs": [],
   "source": [
    "for i in X:\n",
    "    sns.catplot(x = i, data = df, hue = 'class',kind = 'count')"
   ]
  },
  {
   "cell_type": "code",
   "execution_count": null,
   "id": "d31a8238",
   "metadata": {},
   "outputs": [],
   "source": [
    "X_train, X_test, y_train, y_test = train_test_split(X, y, random_state = 2022)"
   ]
  },
  {
   "attachments": {},
   "cell_type": "markdown",
   "id": "99efa323",
   "metadata": {},
   "source": [
    "## Задание 2"
   ]
  },
  {
   "cell_type": "code",
   "execution_count": null,
   "id": "e2b17e31",
   "metadata": {},
   "outputs": [],
   "source": [
    "def GetProbByColumn(X_, y_, column, j):\n",
    "    prob  = {}\n",
    "    x = X_[column]\n",
    "    x = x[y_==j]\n",
    "    unique = X_[column].unique()\n",
    "    k = len(unique)\n",
    "    for i in unique:\n",
    "        prob[i] = (x[x==i].count()) / (x.count())\n",
    "    return prob\n",
    "\n",
    "def Predict2(X_, y_, column):\n",
    "    yPred = []\n",
    "    prob0 = GetProbByColumn(X_, y_, column, 'e')\n",
    "    prob1 = GetProbByColumn(X_, y_, column, 'p')\n",
    "    c = y_.count()\n",
    "    p0 = y_[y_=='e'].count() / c\n",
    "    p1 = y_[y_=='p'].count() / c\n",
    "    for k in X_[column]:\n",
    "        if p0 * prob0[k] < p1 * prob1[k]:\n",
    "            yPred.append('p')\n",
    "        else:\n",
    "            yPred.append('e')\n",
    "    return np.array(yPred)"
   ]
  },
  {
   "cell_type": "code",
   "execution_count": null,
   "id": "2df55531",
   "metadata": {},
   "outputs": [],
   "source": [
    "G = pd.DataFrame(columns = ['score_test','score_train'])\n",
    "for col in X.columns:\n",
    "    G = G.append({'score_test' : accuracy_score(y_test, Predict2(X_test, y_test, col)), 'score_train' : accuracy_score(y_train, Predict2(X_train, y_train, col))},ignore_index=True)\n",
    "G = G.set_index(X.columns)\n",
    "G"
   ]
  },
  {
   "attachments": {},
   "cell_type": "markdown",
   "id": "d5169198",
   "metadata": {},
   "source": [
    "видно, что самая информативная переменная - **stalk-surface-above-ring**."
   ]
  },
  {
   "attachments": {},
   "cell_type": "markdown",
   "id": "7b7f2560",
   "metadata": {},
   "source": [
    "## Задание 3"
   ]
  },
  {
   "cell_type": "code",
   "execution_count": null,
   "id": "621f4eb8",
   "metadata": {},
   "outputs": [],
   "source": [
    "X_train_ohe = pd.get_dummies(X_train)\n",
    "X_test_ohe = pd.get_dummies(X_test)\n",
    "y_train_ohe = y_train\n",
    "y_test_ohe = y_test\n",
    "\n",
    "model = sklearn.naive_bayes.BernoulliNB()\n",
    "model.fit(X_train_ohe,y_train_ohe)\n",
    "score = model.score(X_test_ohe,y_test_ohe)\n",
    "print('Score:', score)"
   ]
  },
  {
   "attachments": {},
   "cell_type": "markdown",
   "id": "0795c0da",
   "metadata": {},
   "source": [
    "## Задание 4"
   ]
  },
  {
   "cell_type": "code",
   "execution_count": null,
   "id": "d6c32b45",
   "metadata": {},
   "outputs": [],
   "source": [
    "def pred(X_, col, p, q, P1, P2): \n",
    "    l_0 = 0\n",
    "    b_0 = 0\n",
    "    for j in X_.columns:\n",
    "        b_j = 0\n",
    "        b_j = np.log(p[j]*(1-q[j])/(q[j]*(1-p[j])))\n",
    "        l_0 += b_j*col[j]\n",
    "        b_0 += np.log((1-p[j])/(1-q[j]))\n",
    "    b_0 += np.log(P1/P2)\n",
    "    return (l_0 + b_0)\n",
    "\n",
    "def Predict4(X_, y_, X_tr, y_tr, useReg = False):\n",
    "    p = {}\n",
    "    q = {}\n",
    "    y_tr_len = len(y_tr)\n",
    "    P1 = len(y_tr[y_tr=='p'])/y_tr_len\n",
    "    P2 = len(y_tr[y_tr=='e'])/y_tr_len\n",
    "    for j in X_tr.columns:\n",
    "        if (useReg):\n",
    "            p[j] = (X_tr[y_tr=='p'][j].sum()+1)/(len(y_tr[y_tr=='p'])+2)\n",
    "            q[j] = (X_tr[y_tr=='e'][j].sum()+1)/(len(y_tr[y_tr=='e'])+2)\n",
    "        else:\n",
    "            p[j] = (X_tr[y_tr=='p'][j].mean())\n",
    "            q[j] = (X_tr[y_tr=='e'][j].mean())\n",
    "        if(q[j] == 1):\n",
    "            q[j] = 1.- 1e-10\n",
    "        if(p[j] == 1):\n",
    "            p[j] = 1.- 1e-10\n",
    "        if(q[j] == 0):\n",
    "            q[j] = 1e-10\n",
    "        if(p[j] == 0):\n",
    "            p[j] = 1e-10\n",
    "    a = []\n",
    "    for i in X_.index:\n",
    "        a.append(pred(X_, X_.loc[i], p, q, P1, P2))\n",
    "    b = []\n",
    "    for i in a:\n",
    "        if(i >= 0):\n",
    "            b.append('p')\n",
    "        else:\n",
    "            b.append('e')\n",
    "    b = np.array(b)\n",
    "    err = 0\n",
    "    for i in range(len(b)):\n",
    "        if(b[i] != y_.iloc[i]):\n",
    "            err += 1\n",
    "    score = 1 - err / len(b)\n",
    "    return score"
   ]
  },
  {
   "cell_type": "code",
   "execution_count": null,
   "id": "5b1caee5",
   "metadata": {},
   "outputs": [],
   "source": [
    "print('Score:', Predict4(X_test_ohe, y_test_ohe, X_train_ohe, y_train_ohe))"
   ]
  },
  {
   "attachments": {},
   "cell_type": "markdown",
   "id": "2e14a6bf",
   "metadata": {},
   "source": [
    "добавим теперь регуляризатор:"
   ]
  },
  {
   "cell_type": "code",
   "execution_count": null,
   "id": "962dca35",
   "metadata": {},
   "outputs": [],
   "source": [
    "print('Score:', Predict4(X_test_ohe, y_test_ohe, X_train_ohe, y_train_ohe, True))"
   ]
  },
  {
   "attachments": {},
   "cell_type": "markdown",
   "id": "5feaa41f",
   "metadata": {},
   "source": [
    "результат не изменился."
   ]
  },
  {
   "attachments": {},
   "cell_type": "markdown",
   "id": "59f7d471",
   "metadata": {},
   "source": [
    "Видно, что результаты совпадают с библиотечным методом."
   ]
  },
  {
   "cell_type": "code",
   "execution_count": null,
   "id": "6bd21c90",
   "metadata": {},
   "outputs": [],
   "source": []
  }
 ],
 "metadata": {
  "kernelspec": {
   "display_name": "Python 3",
   "language": "python",
   "name": "python3"
  },
  "language_info": {
   "codemirror_mode": {
    "name": "ipython",
    "version": 3
   },
   "file_extension": ".py",
   "mimetype": "text/x-python",
   "name": "python",
   "nbconvert_exporter": "python",
   "pygments_lexer": "ipython3",
   "version": "3.8.5"
  }
 },
 "nbformat": 4,
 "nbformat_minor": 5
}
