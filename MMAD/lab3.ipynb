{
 "cells": [
  {
   "attachments": {},
   "cell_type": "markdown",
   "id": "556b0098",
   "metadata": {},
   "source": [
    "# Лабораторная работа 3 : Деревья решений. Ансамбли решающих деревьев"
   ]
  },
  {
   "cell_type": "code",
   "execution_count": null,
   "id": "fe81a4ca",
   "metadata": {},
   "outputs": [],
   "source": [
    "from sklearn.model_selection import train_test_split\n",
    "import pandas as pd\n",
    "import numpy as np\n",
    "import matplotlib.pyplot as plt\n",
    "from sklearn.metrics import accuracy_score\n",
    "from sklearn.tree import DecisionTreeClassifier\n",
    "from sklearn.tree import plot_tree\n",
    "from sklearn.metrics import f1_score\n",
    "from sklearn.metrics import roc_auc_score\n",
    "from sklearn.metrics import accuracy_score\n",
    "from sklearn.ensemble import GradientBoostingClassifier\n",
    "from sklearn.ensemble import RandomForestClassifier\n",
    "from sklearn.model_selection import cross_val_score\n",
    "from sklearn.model_selection import train_test_split\n",
    "import xgboost as xgb\n"
   ]
  },
  {
   "attachments": {},
   "cell_type": "markdown",
   "id": "f4f40b18",
   "metadata": {},
   "source": [
    "## Задание 1"
   ]
  },
  {
   "cell_type": "code",
   "execution_count": null,
   "id": "f548115d",
   "metadata": {},
   "outputs": [],
   "source": [
    "# V = 83 => вариант 6\n",
    "\n",
    "df = pd.read_csv('train.csv')\n",
    "df['Cover_Type'] -= 1\n",
    "df\n"
   ]
  },
  {
   "cell_type": "code",
   "execution_count": null,
   "id": "1eb8d082",
   "metadata": {},
   "outputs": [],
   "source": [
    "res = {\n",
    "    0: 'Spruce/Fir',\n",
    "    1: 'Lodgepole Pine',\n",
    "    2: 'Ponderosa Pine',\n",
    "    3: 'Cottonwood/Willow',\n",
    "    4: 'Aspen',\n",
    "    5: 'Douglas-fir',\n",
    "    6: 'Krummholz'\n",
    "}\n"
   ]
  },
  {
   "cell_type": "code",
   "execution_count": null,
   "id": "ae01bf6b",
   "metadata": {},
   "outputs": [],
   "source": [
    "print('статистики')\n",
    "df.describe()\n"
   ]
  },
  {
   "cell_type": "code",
   "execution_count": null,
   "id": "9ad4dcf6",
   "metadata": {},
   "outputs": [],
   "source": [
    "print('пропущенных значений', df.apply(lambda x: sum(x.isnull()), axis=0).sum())\n"
   ]
  },
  {
   "cell_type": "code",
   "execution_count": null,
   "id": "ef8c614c",
   "metadata": {},
   "outputs": [],
   "source": [
    "X = df.dropna().reset_index().drop('Cover_Type', axis=1)\n",
    "y = df.dropna().reset_index()['Cover_Type']\n",
    "X_train, X_test, y_train, y_test = train_test_split(X, y, test_size=0.3, random_state=2022)\n"
   ]
  },
  {
   "attachments": {},
   "cell_type": "markdown",
   "id": "1d69a006",
   "metadata": {},
   "source": [
    "## Задание 2"
   ]
  },
  {
   "cell_type": "code",
   "execution_count": null,
   "id": "5b364e86",
   "metadata": {},
   "outputs": [],
   "source": [
    "decision_tree = DecisionTreeClassifier(max_depth=3)\n",
    "decision_tree.fit(X_train, y_train)\n",
    "y_pred = decision_tree.predict(X_test)\n"
   ]
  },
  {
   "cell_type": "code",
   "execution_count": null,
   "id": "3115d5b6",
   "metadata": {},
   "outputs": [],
   "source": [
    "plt.figure(figsize=(25, 25))\n",
    "plot_tree(decision_tree, feature_names=df.drop(\"Cover_Type\", axis=1).columns, fontsize=9, class_names=list(res.values()), filled=True)\n"
   ]
  },
  {
   "attachments": {},
   "cell_type": "markdown",
   "id": "79adff6b",
   "metadata": {},
   "source": [
    "Если Aspect не больше 2377.5 и Hillshade_Noon не больше 194.5, то это Ponderosa Pine.\n",
    "\n",
    "Если Aspect не больше 2377.5 и Hillshade_Noon больше 194.5, то это Cottonwood/Willow.\n",
    "\n",
    "Если Aspect больше 2377.5, но меньше 2672.5 и Soil_Type11 не больше 0.5, то это Ponderosa Pine.\n",
    "\n",
    "Если Aspect больше 2377.5, но меньше 2672.5 и Soil_Type11 больше 0.5, то это Douglas-fir.\n",
    "\n",
    "Если Aspect больше 2672.5, но не больше 2959.5, то это Aspen.\n",
    "\n",
    "Если Aspect больше 2959.5, но не больше 3232.5, то это Spruce/Fir.\n",
    "\n",
    "Если Aspect больше 3232.5, то это Krummholz."
   ]
  },
  {
   "cell_type": "code",
   "execution_count": null,
   "id": "279b8cfe",
   "metadata": {},
   "outputs": [],
   "source": [
    "print('точность', accuracy_score(y_pred, y_test))\n"
   ]
  },
  {
   "cell_type": "code",
   "execution_count": null,
   "id": "ceaf104e",
   "metadata": {},
   "outputs": [],
   "source": [
    "print('f1 score', f1_score(y_pred, y_test, average='micro'))\n"
   ]
  },
  {
   "cell_type": "code",
   "execution_count": null,
   "id": "bc219f32",
   "metadata": {},
   "outputs": [],
   "source": [
    "y_score = decision_tree.predict_proba(X_test)\n",
    "print('roc auc score', roc_auc_score(y_test, y_score, multi_class='ovr'))\n"
   ]
  },
  {
   "attachments": {},
   "cell_type": "markdown",
   "id": "49ac9b46",
   "metadata": {},
   "source": [
    "## Часть 3"
   ]
  },
  {
   "cell_type": "code",
   "execution_count": null,
   "id": "4fde0550",
   "metadata": {},
   "outputs": [],
   "source": [
    "# “gini”, “entropy”, “log_loss”\n",
    "crit = ['gini', 'entropy']\n",
    "md = 15\n",
    "\n",
    "scores = np.zeros((2, md))\n",
    "\n",
    "for i in range(2):\n",
    "    for n_nodes in range(1, md + 1):\n",
    "        clf = DecisionTreeClassifier(max_depth=n_nodes, criterion=crit[i])\n",
    "        score = cross_val_score(clf, X, y, scoring='f1_macro')\n",
    "        scores[i][n_nodes - 1] = np.mean(score)\n",
    "\n",
    "plt.subplots(figsize=[10, 10])\n",
    "plt.plot([i for i in range(1, md + 1)], scores[0], label=crit[0])\n",
    "plt.plot([i for i in range(1, md + 1)], scores[1], label=crit[1])\n",
    "plt.legend()\n"
   ]
  },
  {
   "attachments": {},
   "cell_type": "markdown",
   "id": "9b464f0e",
   "metadata": {},
   "source": [
    "Видно, что результаты слабо зависят от выбора критерия. Они показывают схожие результаты. Максимальная точность достигается при глубине от 4 до 8, далее идет снижение качества."
   ]
  },
  {
   "attachments": {},
   "cell_type": "markdown",
   "id": "40cdfc48",
   "metadata": {},
   "source": [
    "## Задание 4"
   ]
  },
  {
   "cell_type": "code",
   "execution_count": null,
   "id": "10f8eb30",
   "metadata": {},
   "outputs": [],
   "source": [
    "#clf = GradientBoostingClassifier()\n",
    "clf = xgb.XGBClassifier()\n",
    "clf.fit(X_train, y_train)\n"
   ]
  },
  {
   "cell_type": "code",
   "execution_count": null,
   "id": "7410418f",
   "metadata": {},
   "outputs": [],
   "source": [
    "print('f1 score (train)', f1_score(y_train, clf.predict(X_train), average='micro'))\n",
    "print('f1 score (test)', f1_score(y_test, clf.predict(X_test), average='micro'))\n"
   ]
  },
  {
   "cell_type": "code",
   "execution_count": null,
   "id": "95293f4c",
   "metadata": {},
   "outputs": [],
   "source": [
    "# from pydotplus import graph_from_dot_data\n",
    "# #from IPython.display import Image\n",
    "# for i in range(3):\n",
    "#     dot_data = export_graphviz(\n",
    "#         clf.estimators_[i, 0],\n",
    "#         out_file=None, filled=True, rounded=True,\n",
    "#         special_characters=True,\n",
    "#         proportion=False, impurity=False,\n",
    "#     )\n",
    "#     plt.figure(figsize=(12,12))\n",
    "#     graph = graph_from_dot_data(dot_data)\n",
    "#     Image(graph.create_png())\n",
    "#     plt.show()\n",
    "\n",
    "for i in range(3):\n",
    "    fig, ax = plt.subplots(figsize=(30, 30))\n",
    "    xgb.plot_tree(clf, num_trees=i, ax=ax, rankdir='LR')\n",
    "    plt.show()\n"
   ]
  },
  {
   "cell_type": "code",
   "execution_count": null,
   "id": "9b99e2f0",
   "metadata": {},
   "outputs": [],
   "source": [
    "imp_dict = dict()\n",
    "feature_imp = clf.feature_importances_\n",
    "\n",
    "for feature, imp in zip(X.columns, feature_imp):\n",
    "    if imp != 0:\n",
    "        imp_dict[feature] = imp\n",
    "\n",
    "sorted_imp = sorted(imp_dict.items(), key=lambda kv: kv[1], reverse=True)\n",
    "\n",
    "print('feature importances')\n",
    "\n",
    "for num, (feature, imp) in enumerate(sorted_imp):\n",
    "    print(feature, imp)\n"
   ]
  },
  {
   "cell_type": "code",
   "execution_count": null,
   "id": "b3597fd1",
   "metadata": {},
   "outputs": [],
   "source": [
    "md = 10\n",
    "\n",
    "scores = np.zeros(md)\n",
    "\n",
    "for n_nodes in range(1, md + 1):\n",
    "    clf = GradientBoostingClassifier(n_estimators=n_nodes, max_depth=7, learning_rate=0.2)\n",
    "    score = cross_val_score(clf, X, y, scoring='f1_macro')\n",
    "    scores[n_nodes - 1] = np.mean(score)\n",
    "\n",
    "plt.subplots(figsize=[10, 10])\n",
    "plt.plot([i for i in range(1, md + 1)], scores, label='score')\n",
    "plt.legend()\n"
   ]
  },
  {
   "attachments": {},
   "cell_type": "markdown",
   "id": "d729e321",
   "metadata": {},
   "source": [
    "Видно, что для градиентного бустинга оптимальным является 4 дерева, после чего идет ухудшение качества."
   ]
  },
  {
   "attachments": {},
   "cell_type": "markdown",
   "id": "bb0b8ad6",
   "metadata": {},
   "source": [
    "## Часть 5"
   ]
  },
  {
   "cell_type": "code",
   "execution_count": null,
   "id": "36650cea",
   "metadata": {},
   "outputs": [],
   "source": [
    "clf = RandomForestClassifier()\n",
    "clf.fit(X_train, y_train)\n"
   ]
  },
  {
   "cell_type": "code",
   "execution_count": null,
   "id": "bbb8231a",
   "metadata": {},
   "outputs": [],
   "source": [
    "print('f1 score (train)', f1_score(y_train, clf.predict(X_train), average='micro'))\n",
    "print('f1 score (test)', f1_score(y_test, clf.predict(X_test), average='micro'))\n"
   ]
  },
  {
   "cell_type": "code",
   "execution_count": null,
   "id": "effc1fc6",
   "metadata": {},
   "outputs": [],
   "source": [
    "imp_dict = dict()\n",
    "feature_imp = clf.feature_importances_\n",
    "\n",
    "for feature, imp in zip(X.columns, feature_imp):\n",
    "    if imp != 0:\n",
    "        imp_dict[feature] = imp\n",
    "\n",
    "sorted_imp = sorted(imp_dict.items(), key=lambda kv: kv[1], reverse=True)\n",
    "\n",
    "print('feature importances')\n",
    "\n",
    "for num, (feature, imp) in enumerate(sorted_imp):\n",
    "    print(feature, imp)\n"
   ]
  },
  {
   "cell_type": "code",
   "execution_count": null,
   "id": "bb7bcbcc",
   "metadata": {},
   "outputs": [],
   "source": [
    "md = 20\n",
    "\n",
    "scores = np.zeros(md)\n",
    "\n",
    "for n_nodes in range(1, md + 1):\n",
    "    clf = RandomForestClassifier(n_estimators=n_nodes)\n",
    "    score = cross_val_score(clf, X, y, scoring='f1_macro')\n",
    "    scores[n_nodes - 1] = np.mean(score)\n",
    "\n",
    "plt.subplots(figsize=[10, 10])\n",
    "plt.plot([i for i in range(1, md + 1)], scores, label='score')\n",
    "plt.legend()\n"
   ]
  },
  {
   "attachments": {},
   "cell_type": "markdown",
   "id": "126f779e",
   "metadata": {},
   "source": [
    "Видно, что для случайного леса не происходит снижения качества при увеличении количества деревьев."
   ]
  }
 ],
 "metadata": {
  "kernelspec": {
   "display_name": "Python 3.8.5 64-bit",
   "language": "python",
   "name": "python3"
  },
  "language_info": {
   "codemirror_mode": {
    "name": "ipython",
    "version": 3
   },
   "file_extension": ".py",
   "mimetype": "text/x-python",
   "name": "python",
   "nbconvert_exporter": "python",
   "pygments_lexer": "ipython3",
   "version": "3.8.5"
  },
  "vscode": {
   "interpreter": {
    "hash": "6eaea64310228e9f754520128e4f9a6259bb26f5c3839fa5dce3903f5873b011"
   }
  }
 },
 "nbformat": 4,
 "nbformat_minor": 5
}
