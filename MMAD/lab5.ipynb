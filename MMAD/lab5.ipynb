{
 "cells": [
  {
   "attachments": {},
   "cell_type": "markdown",
   "metadata": {},
   "source": [
    "# Лабораторная работа 5 : Кластерный анализ. Визуализация многомерных данных. Методы понижения размерности."
   ]
  },
  {
   "cell_type": "code",
   "execution_count": null,
   "metadata": {},
   "outputs": [],
   "source": [
    "import pandas as pd\n",
    "import numpy as np\n",
    "import matplotlib.pyplot as plt\n",
    "from sklearn.cluster import AgglomerativeClustering\n",
    "from scipy.cluster.hierarchy import dendrogram\n",
    "from sklearn.preprocessing import StandardScaler\n",
    "from sklearn.decomposition import PCA\n",
    "from sklearn.manifold import TSNE\n",
    "import umap.umap_ as umap"
   ]
  },
  {
   "attachments": {},
   "cell_type": "markdown",
   "metadata": {},
   "source": [
    "## Часть 1"
   ]
  },
  {
   "cell_type": "code",
   "execution_count": null,
   "metadata": {},
   "outputs": [],
   "source": [
    "V = 83\n",
    "X1 = [40+V, 100-V, 30+V, 25+V, V, 100+V, 230-V, 110+V, 120+V, 180-V]\n",
    "X2 = [10+V, 110-V, 20+V, 15+V, 105-V, 120+V,220-V, 90+V, 200-V, 160-V]\n",
    "X = np.stack([X1, X2], axis = -1)"
   ]
  },
  {
   "cell_type": "code",
   "execution_count": null,
   "metadata": {},
   "outputs": [],
   "source": [
    "def plot1(model, name):\n",
    "    for i in range(len(X)):\n",
    "        if(model.labels_[i] == 0):\n",
    "            plt.scatter(X1[i], X2[i], alpha = 0.8,s = 10, color = 'red')\n",
    "        else:\n",
    "            plt.scatter(X1[i], X2[i], alpha = 0.8,s = 10, color = 'green')\n",
    "    plt.title(name, size = 20)\n",
    "    plt.legend()\n",
    "\n",
    "# https://scikit-learn.org/stable/auto_examples/cluster/plot_agglomerative_dendrogram.html\n",
    "def plot2(model, name, **kwargs):\n",
    "    # Create linkage matrix and then plot the dendrogram\n",
    "\n",
    "    # create the counts of samples under each node\n",
    "    counts = np.zeros(model.children_.shape[0])\n",
    "    n_samples = len(model.labels_)\n",
    "    for i, merge in enumerate(model.children_):\n",
    "        current_count = 0\n",
    "        for child_idx in merge:\n",
    "            if child_idx < n_samples:\n",
    "                current_count += 1  # leaf node\n",
    "            else:\n",
    "                current_count += counts[child_idx - n_samples]\n",
    "        counts[i] = current_count\n",
    "\n",
    "    linkage_matrix = np.column_stack(\n",
    "        [model.children_, model.distances_, counts]\n",
    "    ).astype(float)\n",
    "\n",
    "    # Plot the corresponding dendrogram\n",
    "    dendrogram(linkage_matrix, **kwargs)\n",
    "    plt.title(name, size = 20)\n",
    "\n",
    "def plot3(model, name):\n",
    "    plt.figure(figsize=(10, 10))\n",
    "    plt.scatter(model[:,0], model[:,1], alpha = 0.8,s = 10)\n",
    "    plt.title(name, size = 20)\n",
    "    plt.legend()"
   ]
  },
  {
   "cell_type": "code",
   "execution_count": null,
   "metadata": {},
   "outputs": [],
   "source": [
    "clustering_complete = AgglomerativeClustering(affinity='euclidean', linkage = 'complete').fit(X)\n",
    "clustering_single = AgglomerativeClustering(affinity='euclidean', linkage = 'single').fit(X)"
   ]
  },
  {
   "cell_type": "code",
   "execution_count": null,
   "metadata": {},
   "outputs": [],
   "source": [
    "plot1(clustering_complete, \"Дальний сосед\")"
   ]
  },
  {
   "cell_type": "code",
   "execution_count": null,
   "metadata": {},
   "outputs": [],
   "source": [
    "plot1(clustering_single, \"Ближний сосед\")"
   ]
  },
  {
   "cell_type": "code",
   "execution_count": null,
   "metadata": {},
   "outputs": [],
   "source": [
    "clustering_complete = AgglomerativeClustering(affinity='euclidean', linkage = 'complete', distance_threshold=0., n_clusters= None).fit(X)\n",
    "clustering_single = AgglomerativeClustering(affinity='euclidean', linkage = 'single', distance_threshold=0., n_clusters= None).fit(X)"
   ]
  },
  {
   "cell_type": "code",
   "execution_count": null,
   "metadata": {},
   "outputs": [],
   "source": [
    "plot2(clustering_complete, \"Дальний сосед\", truncate_mode=\"level\", p=3)"
   ]
  },
  {
   "cell_type": "code",
   "execution_count": null,
   "metadata": {},
   "outputs": [],
   "source": [
    "plot2(clustering_single, \"Ближний сосед\", truncate_mode=\"level\", p=3)"
   ]
  },
  {
   "attachments": {},
   "cell_type": "markdown",
   "metadata": {},
   "source": [
    "## Часть 2"
   ]
  },
  {
   "cell_type": "code",
   "execution_count": null,
   "metadata": {},
   "outputs": [],
   "source": [
    "df = pd.read_csv(\"avocado.csv\", parse_dates=True)\n",
    "df = df.sample(frac=1)\n",
    "df = df.reset_index()\n",
    "df = df.rename(columns={\"4046\": \"Small Hass\",\n",
    "               \"4225\": \"Large Hass\", \"4770\": \"XLarge Hass\"})\n",
    "df = df.drop(columns=[\"Unnamed: 0\", \"index\"])\n",
    "\n",
    "stringValues = ['Date', 'type', 'region']\n",
    "df[stringValues] = df[stringValues].apply(lambda x: pd.factorize(x)[0])\n",
    "\n",
    "df"
   ]
  },
  {
   "cell_type": "code",
   "execution_count": null,
   "metadata": {},
   "outputs": [],
   "source": [
    "df.info()"
   ]
  },
  {
   "cell_type": "code",
   "execution_count": null,
   "metadata": {},
   "outputs": [],
   "source": [
    "X = df.dropna().reset_index().drop('AveragePrice', axis=1)"
   ]
  },
  {
   "cell_type": "code",
   "execution_count": null,
   "metadata": {},
   "outputs": [],
   "source": [
    "X = StandardScaler().fit_transform(X)\n",
    "\n",
    "X_pca = PCA(n_components=2).fit_transform(X)\n",
    "\n",
    "X_tsme = TSNE(n_components=2, learning_rate='auto', init='random', perplexity=3).fit_transform(X)\n",
    "\n",
    "X_umap = umap.UMAP(n_neighbors=5, random_state=42).fit(X).embedding_"
   ]
  },
  {
   "cell_type": "code",
   "execution_count": null,
   "metadata": {},
   "outputs": [],
   "source": [
    "plot3(X_pca, \"pca\")"
   ]
  },
  {
   "cell_type": "code",
   "execution_count": null,
   "metadata": {},
   "outputs": [],
   "source": [
    "plot3(X_tsme, \"tsme\")"
   ]
  },
  {
   "cell_type": "code",
   "execution_count": null,
   "metadata": {},
   "outputs": [],
   "source": [
    "plot3(X_umap, \"umap\")"
   ]
  }
 ],
 "metadata": {
  "kernelspec": {
   "display_name": "Python 3.8.5 64-bit",
   "language": "python",
   "name": "python3"
  },
  "language_info": {
   "codemirror_mode": {
    "name": "ipython",
    "version": 3
   },
   "file_extension": ".py",
   "mimetype": "text/x-python",
   "name": "python",
   "nbconvert_exporter": "python",
   "pygments_lexer": "ipython3",
   "version": "3.8.5 (tags/v3.8.5:580fbb0, Jul 20 2020, 15:57:54) [MSC v.1924 64 bit (AMD64)]"
  },
  "orig_nbformat": 4,
  "vscode": {
   "interpreter": {
    "hash": "6eaea64310228e9f754520128e4f9a6259bb26f5c3839fa5dce3903f5873b011"
   }
  }
 },
 "nbformat": 4,
 "nbformat_minor": 2
}
