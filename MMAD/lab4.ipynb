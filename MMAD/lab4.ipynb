{
 "cells": [
  {
   "attachments": {},
   "cell_type": "markdown",
   "metadata": {},
   "source": [
    "# Лабораторная работа 4 : Задача восстановления зависимостей. Линейная регрессия. Бустинг."
   ]
  },
  {
   "cell_type": "code",
   "execution_count": null,
   "metadata": {},
   "outputs": [],
   "source": [
    "from sklearn.model_selection import train_test_split\n",
    "import pandas as pd\n",
    "import numpy as np\n",
    "import matplotlib.pyplot as plt\n",
    "import seaborn as sns\n",
    "from xgboost import XGBRegressor\n",
    "from sklearn.linear_model import LinearRegression\n",
    "from sklearn.metrics import mean_absolute_error, mean_squared_error, r2_score\n",
    "from sklearn.model_selection import cross_validate\n",
    "from sklearn.model_selection import RepeatedKFold\n"
   ]
  },
  {
   "attachments": {},
   "cell_type": "markdown",
   "metadata": {},
   "source": [
    "## Задание 1"
   ]
  },
  {
   "cell_type": "code",
   "execution_count": null,
   "metadata": {},
   "outputs": [],
   "source": [
    "# V = 83 => вариант 3\n",
    "\n",
    "df = pd.read_csv(\"avocado.csv\", parse_dates=True)\n",
    "df = df.sample(frac=1)\n",
    "df = df.reset_index()\n",
    "df = df.rename(columns={\"4046\": \"Small Hass\",\n",
    "               \"4225\": \"Large Hass\", \"4770\": \"XLarge Hass\"})\n",
    "df = df.drop(columns=[\"Unnamed: 0\", \"index\"])\n",
    "\n",
    "stringValues = ['Date', 'type', 'region']\n",
    "df[stringValues] = df[stringValues].apply(lambda x: pd.factorize(x)[0])\n",
    "\n",
    "df\n"
   ]
  },
  {
   "cell_type": "code",
   "execution_count": null,
   "metadata": {},
   "outputs": [],
   "source": [
    "df.info()\n"
   ]
  },
  {
   "cell_type": "code",
   "execution_count": null,
   "metadata": {},
   "outputs": [],
   "source": [
    "print('статистики')\n",
    "df.describe()\n"
   ]
  },
  {
   "cell_type": "code",
   "execution_count": null,
   "metadata": {},
   "outputs": [],
   "source": [
    "print('пропущенных значений', df.apply(\n",
    "    lambda x: sum(x.isnull()), axis=0).sum())\n"
   ]
  },
  {
   "cell_type": "code",
   "execution_count": null,
   "metadata": {},
   "outputs": [],
   "source": [
    "print('Матрица корреляций:')\n",
    "sns.heatmap(df.corr(), cmap='viridis', annot=True)\n"
   ]
  },
  {
   "cell_type": "code",
   "execution_count": null,
   "metadata": {},
   "outputs": [],
   "source": [
    "for c in df.columns:\n",
    "    print(c)\n",
    "    print(df[c].describe())\n",
    "    sns.boxplot(y=c, data=df)\n",
    "    plt.show()\n"
   ]
  },
  {
   "attachments": {},
   "cell_type": "markdown",
   "metadata": {},
   "source": [
    "Видно, что чистка данных не требуется."
   ]
  },
  {
   "cell_type": "code",
   "execution_count": null,
   "metadata": {},
   "outputs": [],
   "source": [
    "X = df.dropna().reset_index().drop('AveragePrice', axis=1)\n",
    "y = df.dropna().reset_index()['AveragePrice']\n",
    "X_train, X_test, y_train, y_test = train_test_split(\n",
    "    X, y, test_size=0.3, random_state=838383)\n"
   ]
  },
  {
   "attachments": {},
   "cell_type": "markdown",
   "metadata": {},
   "source": [
    "## Задание 2"
   ]
  },
  {
   "cell_type": "code",
   "execution_count": null,
   "metadata": {},
   "outputs": [],
   "source": [
    "LR = LinearRegression()\n",
    "LR.fit(X_train, y_train)\n",
    "Y_LR = LR.predict(X_test)\n",
    "print('Mean absolute error:', round(mean_absolute_error(y_test, Y_LR), 3))\n",
    "print('Sqrt of mean squared error:', round(mean_squared_error(y_test, Y_LR)**(1/2), 3))\n",
    "print('R2 score:', round(r2_score(y_test, Y_LR), 3))\n"
   ]
  },
  {
   "cell_type": "code",
   "execution_count": null,
   "metadata": {},
   "outputs": [],
   "source": [
    "coefs = abs(LR.coef_)\n",
    "feature_importance = pd.DataFrame(\n",
    "    columns=['Название признака', 'Важность признака'])\n",
    "feature_importance['Название признака'] = X.keys()\n",
    "feature_importance['Важность признака'] = coefs/sum(coefs)\n",
    "feature_importance = feature_importance.sort_values(\n",
    "    by='Важность признака', ascending=False)\n",
    "print('Наиболее информативные признаки')\n",
    "feature_importance\n"
   ]
  },
  {
   "attachments": {},
   "cell_type": "markdown",
   "metadata": {},
   "source": [
    "Наиболее информативный - тип"
   ]
  },
  {
   "cell_type": "code",
   "execution_count": null,
   "metadata": {},
   "outputs": [],
   "source": [
    "plt.figure(figsize=(7, 7))\n",
    "plt.scatter(y_test, Y_LR)\n",
    "plt.plot([0, 3.3], [0, 3.3], color='g')\n",
    "plt.xlabel('Real AveragePrice', fontsize=20)\n",
    "plt.ylabel('Predict AveragePrice', fontsize=20)\n"
   ]
  },
  {
   "attachments": {},
   "cell_type": "markdown",
   "metadata": {},
   "source": [
    "## Задание 3"
   ]
  },
  {
   "cell_type": "code",
   "execution_count": null,
   "metadata": {},
   "outputs": [],
   "source": [
    "gb = XGBRegressor(objective='reg:squarederror')\n",
    "gb.fit(X_train, y_train)\n",
    "Y_GB = gb.predict(X_test)\n",
    "print('Mean absolute error:', round(mean_absolute_error(y_test, Y_GB), 3))\n",
    "print('Sqrt of mean squared error:', round(mean_squared_error(y_test, Y_GB)**(1/2), 3))\n",
    "print('R2 score:', round(r2_score(y_test, Y_GB), 3))\n"
   ]
  },
  {
   "attachments": {},
   "cell_type": "markdown",
   "metadata": {},
   "source": [
    "Видно, что R2 бустингом получился в 2 раза больше, чем лин. регрессией."
   ]
  },
  {
   "cell_type": "code",
   "execution_count": null,
   "metadata": {},
   "outputs": [],
   "source": [
    "feature_importance = pd.DataFrame(\n",
    "    columns=['Название признака', 'Важность признака'])\n",
    "feature_importance['Название признака'] = X.keys()\n",
    "feature_importance['Важность признака'] = gb.feature_importances_\n",
    "feature_importance = feature_importance.sort_values(\n",
    "    by='Важность признака', ascending=False)\n",
    "print('Наиболее информативные признаки')\n",
    "feature_importance\n"
   ]
  },
  {
   "attachments": {},
   "cell_type": "markdown",
   "metadata": {},
   "source": [
    "Еаиболее информативный также - тип"
   ]
  },
  {
   "cell_type": "code",
   "execution_count": null,
   "metadata": {},
   "outputs": [],
   "source": [
    "plt.figure(figsize=(7, 7))\n",
    "plt.scatter(y_test, Y_GB)\n",
    "plt.plot([0, 3.3], [0, 3.3], color='g')\n",
    "plt.xlabel('Real AveragePrice', fontsize=20)\n",
    "plt.ylabel('Predict AveragePrice', fontsize=20)\n"
   ]
  },
  {
   "cell_type": "code",
   "execution_count": null,
   "metadata": {},
   "outputs": [],
   "source": [
    "n = 4\n",
    "cv_model_lr = cross_validate(LR, X, y, cv=RepeatedKFold(\n",
    "    n_splits=n, n_repeats=n), return_estimator=False, n_jobs=1)\n",
    "cv_model_gb = cross_validate(gb, X, y, cv=RepeatedKFold(\n",
    "    n_splits=n, n_repeats=n), return_estimator=False, n_jobs=1)\n",
    "x_i = range(0, n*n)\n",
    "y_1 = cv_model_lr['test_score']\n",
    "y_2 = cv_model_gb['test_score']\n",
    "plt.subplots(figsize=(7, 7))\n",
    "plt.title('CV_Score')\n",
    "plt.plot(x_i, y_1, label='LR')\n",
    "plt.plot([0, n*n - 1], [y_1.mean()]*2, label='mean LR')\n",
    "plt.plot(x_i, y_2, label='GB')\n",
    "plt.plot([0, n*n - 1], [y_2.mean()]*2, label='mean GB')\n",
    "plt.legend()\n"
   ]
  },
  {
   "attachments": {},
   "cell_type": "markdown",
   "metadata": {},
   "source": [
    "## Задание 4"
   ]
  },
  {
   "attachments": {},
   "cell_type": "markdown",
   "metadata": {},
   "source": [
    "Помним, что наиболее информативная - тип"
   ]
  },
  {
   "cell_type": "code",
   "execution_count": null,
   "metadata": {},
   "outputs": [],
   "source": [
    "start = 0\n",
    "end = 15\n",
    "plt.subplots(figsize=(end, end//2))\n",
    "plt.plot(X.index[start:end], y[start:end], label='Real values')\n",
    "plt.scatter((X[start:end][X['type'] == 0]).index,\n",
    "            y[start:end][X['type'] == 0], label='type 0', c='y')\n",
    "plt.scatter((X[start:end][X['type'] == 1]).index,\n",
    "            y[start:end][X['type'] == 1], label='type 1', c='r')\n",
    "plt.plot(X.index[start:end], LR.predict(X)[start:end], label='LR')\n",
    "plt.plot(X.index[start:end], gb.predict(X)[start:end], label='GB')\n",
    "plt.legend()\n"
   ]
  }
 ],
 "metadata": {
  "kernelspec": {
   "display_name": "Python 3.8.5 64-bit",
   "language": "python",
   "name": "python3"
  },
  "language_info": {
   "codemirror_mode": {
    "name": "ipython",
    "version": 3
   },
   "file_extension": ".py",
   "mimetype": "text/x-python",
   "name": "python",
   "nbconvert_exporter": "python",
   "pygments_lexer": "ipython3",
   "version": "3.8.5"
  },
  "orig_nbformat": 4,
  "vscode": {
   "interpreter": {
    "hash": "6eaea64310228e9f754520128e4f9a6259bb26f5c3839fa5dce3903f5873b011"
   }
  }
 },
 "nbformat": 4,
 "nbformat_minor": 2
}
