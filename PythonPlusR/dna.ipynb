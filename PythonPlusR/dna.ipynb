{
 "cells": [
  {
   "cell_type": "code",
   "execution_count": null,
   "metadata": {},
   "outputs": [],
   "source": [
    "import pandas as pd\n",
    "import numpy as np\n",
    "import sys\n",
    "import os\n",
    "from sklearn.linear_model import LogisticRegression\n",
    "import time\n",
    "from joblib import Parallel, delayed\n",
    "\n",
    "np.set_printoptions(threshold=sys.maxsize)"
   ]
  },
  {
   "cell_type": "code",
   "execution_count": null,
   "metadata": {},
   "outputs": [],
   "source": [
    "ID = \"sample\"\n",
    "L = 20\n",
    "\n",
    "directory = os.path.dirname(os.getcwd())\n",
    "df = pd.read_csv(directory + '\\\\datasets\\\\dna.csv', dtype={ID: object})\n",
    "\n",
    "#df = df.iloc[0:10, :]\n",
    "\n",
    "print(df)"
   ]
  },
  {
   "cell_type": "code",
   "execution_count": null,
   "metadata": {},
   "outputs": [],
   "source": [
    "poss = []\n",
    "\n",
    "for sample in df[ID].values:\n",
    "    sample = list(str(sample))\n",
    "    pos = np.array(['2']*L).astype(int)\n",
    "    pos[:L] = sample\n",
    "    poss.append(pos)\n",
    "\n",
    "df_wos = df[df.columns[1:]]\n",
    "poss = pd.DataFrame(poss)\n",
    "poss = poss.replace(2, np.NaN)\n",
    "df_wos_wp = pd.concat([poss, df_wos], axis=1)\n",
    "\n",
    "pacient_columns = df.columns[1:]\n",
    "pacient_vals = []\n",
    "for pacient in pacient_columns:\n",
    "    pacient_val = []\n",
    "    for pos in range(L):\n",
    "        pacient_val.append((df_wos_wp[pos]*df_wos_wp[pacient]).sum()/(df_wos_wp[pacient][~df_wos_wp[pos].isna()].sum()))\n",
    "    pacient_vals.append(pacient_val)\n",
    "pacient_vals = np.array(pacient_vals)\n",
    "\n",
    "val_log = np.log(pacient_vals)\n",
    "\n",
    "pacient_vals\n"
   ]
  },
  {
   "cell_type": "code",
   "execution_count": null,
   "metadata": {},
   "outputs": [],
   "source": [
    "def count_pair(data, i, j):\n",
    "    patterns = [\"11\", \"01\", \"10\", \"00\"]\n",
    "    data_p = data\n",
    "    data_p = data[~data[i].isna()]\n",
    "    data_p = data_p[~data_p[j].isna()]\n",
    "    i_col = data_p[i].astype(int).astype(str)\n",
    "    j_col = data_p[j].astype(int).astype(str)\n",
    "    pair_col = i_col+j_col\n",
    "    res = []\n",
    "    for p in patterns:\n",
    "        res.append((pair_col == p).astype(int))\n",
    "    return np.array(res)\n",
    "\n",
    "\n",
    "pairs = []\n",
    "for i in range(L):\n",
    "    for j in range(L):\n",
    "        if (j > i):\n",
    "            pairs.append([i, j])\n",
    "\n",
    "pacient_pair_vals = []\n",
    "col_names = []\n",
    "for pair in pairs:\n",
    "    counts = count_pair(df_wos_wp, pair[0], pair[1])\n",
    "    pacient_pair_val = []\n",
    "    for pacient in pacient_columns:\n",
    "        sum = df_wos_wp[pacient].sum()\n",
    "        k = 0\n",
    "        val = []\n",
    "        for p in counts:\n",
    "            val.append((p*df_wos_wp[pacient]).sum()/sum)\n",
    "            col_names.append(\n",
    "                f'{pacient}_{pair[0]}_{pair[1]}_{[\"11\", \"01\", \"10\", \"00\"][k]}')\n",
    "            k += 1\n",
    "        pacient_pair_val.append(val)\n",
    "    pacient_pair_vals.append(pacient_pair_val)\n",
    "    \n",
    "pacient_pair_vals = np.array(pacient_pair_vals)\n",
    "\n",
    "pacient_pair_vals = pacient_pair_vals.transpose(1, 0, 2).reshape(pacient_pair_vals.shape[1],\n",
    "                                                               pacient_pair_vals.shape[0] *\n",
    "                                                               pacient_pair_vals.shape[2],\n",
    "                                                               )\n",
    "\n",
    "pair_val_log = np.log(pacient_pair_vals)\n",
    "\n",
    "pacient_pair_vals\n"
   ]
  },
  {
   "cell_type": "code",
   "execution_count": null,
   "metadata": {},
   "outputs": [],
   "source": [
    "labels = np.array(['p_cncr' in i for i in pacient_columns]).astype(int)\n",
    "\n",
    "lfdf = pd.DataFrame(pair_val_log.T, columns=labels)\n",
    "lfdf.replace([np.inf, -np.inf], np.nan, inplace=True)\n",
    "lfdf.dropna(inplace=True)\n",
    "pair_val_log = lfdf.to_numpy().T\n",
    "\n",
    "all_log = np.concatenate([val_log, pair_val_log], axis=-1)\n",
    "\n",
    "all_log\n"
   ]
  },
  {
   "cell_type": "code",
   "execution_count": null,
   "metadata": {},
   "outputs": [],
   "source": [
    "def cros_val(feaches, labels):\n",
    "    ind = np.arange(len(labels))\n",
    "    result = []\n",
    "    for val_ind in range(len(labels)):\n",
    "        X_train = feaches[ind != val_ind]\n",
    "        Y_train = labels[ind != val_ind]\n",
    "\n",
    "        X_test = feaches[ind == val_ind]\n",
    "        Y_test = labels[ind == val_ind]\n",
    "\n",
    "        clf = LogisticRegression()\n",
    "        clf.fit(X_train, Y_train)\n",
    "\n",
    "        pred = clf.predict(X_test)\n",
    "        result.append((pred == Y_test).astype(int))\n",
    "\n",
    "    return result\n",
    "\n",
    "\n",
    "result = cros_val(all_log, labels)\n"
   ]
  },
  {
   "cell_type": "code",
   "execution_count": null,
   "metadata": {},
   "outputs": [],
   "source": [
    "np.mean(result)\n"
   ]
  },
  {
   "cell_type": "code",
   "execution_count": null,
   "metadata": {},
   "outputs": [],
   "source": [
    "pair_list = []\n",
    "for i in range(len(pair_val_log[0])):\n",
    "    for j in range(len(pair_val_log[0])):\n",
    "        if (i != j):\n",
    "            pair_list.append(\n",
    "                (np.stack([pair_val_log[:, i], pair_val_log[:, j]], axis=-1), labels))\n"
   ]
  },
  {
   "cell_type": "code",
   "execution_count": null,
   "metadata": {},
   "outputs": [],
   "source": [
    "def do_job(processes, data=pair_list[:200]):\n",
    "    start_time = time.time()\n",
    "    res = [Parallel(n_jobs=processes)(delayed(cros_val)(s[0], s[1]) for s in data)]\n",
    "    execution_time = time.time() - start_time\n",
    "    return np.mean(res), execution_time\n",
    "\n",
    "\n",
    "for i in range(1, 10):\n",
    "    print(i, do_job(i))\n"
   ]
  }
 ],
 "metadata": {
  "kernelspec": {
   "display_name": "Python 3",
   "language": "python",
   "name": "python3"
  },
  "language_info": {
   "codemirror_mode": {
    "name": "ipython",
    "version": 3
   },
   "file_extension": ".py",
   "mimetype": "text/x-python",
   "name": "python",
   "nbconvert_exporter": "python",
   "pygments_lexer": "ipython3",
   "version": "3.11.2"
  }
 },
 "nbformat": 4,
 "nbformat_minor": 2
}
