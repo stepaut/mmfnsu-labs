{
 "cells": [
  {
   "cell_type": "code",
   "execution_count": null,
   "metadata": {},
   "outputs": [],
   "source": [
    "import pandas as pd\n",
    "import numpy as np\n",
    "import sys\n",
    "import os\n",
    "\n",
    "np.set_printoptions(threshold=sys.maxsize)"
   ]
  },
  {
   "cell_type": "code",
   "execution_count": null,
   "metadata": {},
   "outputs": [],
   "source": [
    "ID = \"Unnamed: 0\"\n",
    "\n",
    "directory = os.path.dirname(os.getcwd())\n",
    "df = pd.read_csv(directory + '\\\\datasets\\\\dna.csv', dtype={ID: object})\n",
    "\n",
    "df = df.iloc[:, 0:5]\n",
    "df = df.iloc[0:10, :]\n",
    "\n",
    "print(df)"
   ]
  },
  {
   "cell_type": "code",
   "execution_count": null,
   "metadata": {},
   "outputs": [],
   "source": [
    "poses = []\n",
    "\n",
    "for sample in df[ID].values:\n",
    "    sample = list(str(sample))\n",
    "    base = np.array(['2']*20).astype(int)\n",
    "    l = len(sample)\n",
    "    base[:l] = sample\n",
    "    poses.append(base)\n",
    "\n",
    "data1 = df[df.columns[1:]] # df_wos = df_wo_samples\n",
    "\n",
    "poses = pd.DataFrame(poses)\n",
    "poses = poses.replace(2, np.NaN)\n",
    "data2 = pd.concat([poses, data1], axis=1) # df_wos_with_poses\n",
    "\n",
    "pacients_cols = df.columns[1:]\n",
    "pacients_feachs = []\n",
    "for pacient in pacients_cols:\n",
    "    pacient_feachs = []\n",
    "    for pos in range(20):\n",
    "        pacient_feachs.append((data2[pos]*data2[pacient]).sum()/(data2[pacient][~data2[pos].isna()].sum()))\n",
    "    pacients_feachs.append(pacient_feachs)\n",
    "pacients_feachs = np.array(pacients_feachs)\n",
    "\n",
    "pacients_feachs\n"
   ]
  },
  {
   "cell_type": "code",
   "execution_count": null,
   "metadata": {},
   "outputs": [],
   "source": [
    "def count_pair(data, i, j):\n",
    "    patterns = [\"11\", \"01\", \"10\", \"00\"]\n",
    "    data_p = data\n",
    "    data_p = data[~data[i].isna()]\n",
    "    data_p = data_p[~data_p[j].isna()]\n",
    "    i_col = data_p[i].astype(int).astype(str)\n",
    "    j_col = data_p[j].astype(int).astype(str)\n",
    "    pair_col = i_col+j_col\n",
    "    res = []\n",
    "    for p in patterns:\n",
    "        res.append((pair_col == p).astype(int))\n",
    "    return np.array(res)\n",
    "\n",
    "\n",
    "pairs = []\n",
    "for i in range(20):\n",
    "    for j in range(20):\n",
    "        if (i != j):\n",
    "            pairs.append([i, j])\n",
    "\n",
    "pacients_feachs2 = []\n",
    "col_names = []\n",
    "for pair in pairs:\n",
    "    counts = count_pair(data2, pair[0], pair[1])\n",
    "    pacient_feachs2 = []\n",
    "    for pacient in pacients_cols:\n",
    "        div = data2[pacient].sum()\n",
    "        k = 0\n",
    "        feach = []\n",
    "        for p in counts:\n",
    "            feach.append((p*data2[pacient]).sum()/div)\n",
    "            col_names.append(\n",
    "                f'{pacient}_{pair[0]}_{pair[1]}_{[\"11\", \"01\", \"10\", \"00\"][k]}')\n",
    "            k += 1\n",
    "        pacient_feachs2.append(feach)\n",
    "    pacients_feachs2.append(pacient_feachs2)\n",
    "    \n",
    "pacients_feachs2 = np.array(pacients_feachs2)\n",
    "\n",
    "pacients_feachs2 = pacients_feachs2.transpose(1, 0, 2).reshape(pacients_feachs2.shape[1],\n",
    "                                                               pacients_feachs2.shape[0] *\n",
    "                                                               pacients_feachs2.shape[2],\n",
    "                                                               )\n",
    "\n",
    "pacients_feachs2\n"
   ]
  },
  {
   "cell_type": "code",
   "execution_count": null,
   "metadata": {},
   "outputs": [],
   "source": [
    "all_feach = np.concatenate([pacients_feachs, pacients_feachs2], axis=-1)\n",
    "logged_feach = np.log(all_feach)\n",
    "\n",
    "labels = np.array(['p_cncr' in i for i in pacients_cols]).astype(int)\n",
    "\n",
    "logged_feach\n"
   ]
  }
 ],
 "metadata": {
  "kernelspec": {
   "display_name": "Python 3",
   "language": "python",
   "name": "python3"
  },
  "language_info": {
   "codemirror_mode": {
    "name": "ipython",
    "version": 3
   },
   "file_extension": ".py",
   "mimetype": "text/x-python",
   "name": "python",
   "nbconvert_exporter": "python",
   "pygments_lexer": "ipython3",
   "version": "3.11.2"
  }
 },
 "nbformat": 4,
 "nbformat_minor": 2
}
